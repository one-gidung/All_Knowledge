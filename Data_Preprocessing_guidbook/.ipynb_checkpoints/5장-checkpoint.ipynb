{
 "cells": [
  {
   "cell_type": "markdown",
   "metadata": {},
   "source": [
    "# 5장 분할"
   ]
  },
  {
   "cell_type": "markdown",
   "metadata": {},
   "source": [
    "분할은 예측 모델을 평가할 때 필요한 전처리이다. 주로 학습 데이터(예측 모델을 구축할 때 이용하는 데이터)와 검증 데이터(모델의 정확도를 측정하기 위한 데이터)의 분할에 사용된다. 학습 데이터와 검증 데이터는 같은 전처리를 적용하며, 되도록 같은 데이터로 묶어서 다루고 예측 모델에 입력하기 직전 분할하는 것이 Awesome한 방법이다."
   ]
  },
  {
   "cell_type": "markdown",
   "metadata": {},
   "source": [
    "### 5.1 모델 검증을 위한 데이터 레코드 분할\n",
    "\n",
    "교차 검증(cross validation)은 데이터를 몇개의 데이터로 나누어 그 중 하나의 데이터는 평가용 데이터로, 나머지 데이터는 모델 학습을 실행한다. 교차검증은 과적합(과학습, overlearning)의 영향을 배제하여 예측 모델의 정확도를 측정할 수 있는 방법이다. \n",
    "\n",
    "교차 검증은 분할할 수(교차수)를 매개변수로 전달해야 한다. 기본적으로 정확도가 떨어지지 않을 정도의 학습 데이터양을 확보하면서 최소한의 교차수를 사용하길 추천한다.\n",
    "\n",
    "교차 검증 또한 반복하면 과학습 상태에 가까워진다. 따라서 교차 검증용 데이터와는 별개로 최종 정확도 검증을 위한 데이터를 미리 준비해두고, 이 데이터를 사용하여 모델의 정확도를 검증해 해결해야 한다. 이를 홀드아웃 검증(hold-out validation)이라고 한다."
   ]
  },
  {
   "cell_type": "markdown",
   "metadata": {},
   "source": [
    "######  Q1 교차 검증"
   ]
  }
 ],
 "metadata": {
  "kernelspec": {
   "display_name": "Python 3 (ipykernel)",
   "language": "python",
   "name": "python3"
  },
  "language_info": {
   "codemirror_mode": {
    "name": "ipython",
    "version": 3
   },
   "file_extension": ".py",
   "mimetype": "text/x-python",
   "name": "python",
   "nbconvert_exporter": "python",
   "pygments_lexer": "ipython3",
   "version": "3.9.12"
  }
 },
 "nbformat": 4,
 "nbformat_minor": 4
}
